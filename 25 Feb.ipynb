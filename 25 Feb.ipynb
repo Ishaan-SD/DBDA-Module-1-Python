{
 "cells": [
  {
   "cell_type": "markdown",
   "id": "1a862a6b-6c96-476e-9c52-dc703281eebf",
   "metadata": {},
   "source": [
    "### Keywords"
   ]
  },
  {
   "cell_type": "markdown",
   "id": "7cceb5ed-e36a-41b0-b100-8a723ef24d3e",
   "metadata": {},
   "source": [
    "There are 35 reserved keywords in 3.5"
   ]
  },
  {
   "cell_type": "markdown",
   "id": "6649ec57-5f19-4c80-9e01-81f09ce9022a",
   "metadata": {},
   "source": [
    "### Value Keywords - True, False, None"
   ]
  },
  {
   "cell_type": "markdown",
   "id": "383087ed-5611-4304-b691-801bd65b583a",
   "metadata": {},
   "source": [
    "### Operator Keywords (Logical operators) : \n",
    "and, or, not, is, in\n",
    "### Control Flow : \n",
    "if, elif, else\n",
    "### Iteration Keywords : \n",
    "for, while, break, continue ; else vers.\n",
    "### Structure Keywords : \n",
    "def, class, with, as, pass, lambda (anon fns)\n",
    "### Returning Keywords : \n",
    "return, yield\n",
    "### Import Keywords : \n",
    "import, from, as (alias)\n",
    "### Excepn Handling : \n",
    "try, expect, raise, finally, else, assert (checking cond)\n",
    "### Asynch Prog Keywords : \n",
    "async, await (parallel programming - threads)\n",
    "### Variable Handling Keywords : \n",
    "del (not really used since AMM), global, nonlocal"
   ]
  },
  {
   "cell_type": "markdown",
   "id": "a28b8847-8a25-4cad-8421-2d26e4eb3289",
   "metadata": {},
   "source": [
    "# Identifiers"
   ]
  },
  {
   "cell_type": "markdown",
   "id": "9a09358c-f661-49b8-9cca-f4bc51042709",
   "metadata": {},
   "source": [
    "Naming Rules / Convention\n",
    "1. a-z / 0-9 / _\n",
    "2. Meaningful names\n",
    "3. capitals for const\n",
    "4. no special char\n",
    "5. cannot start with digits\n",
    "6. case sentive"
   ]
  },
  {
   "cell_type": "markdown",
   "id": "2c32d3b5-e1b4-4950-8236-a1cb222f72e3",
   "metadata": {},
   "source": [
    "# Variable\n",
    "Named location\n",
    "## Symbol Table\n",
    "Virtual Table to store the name / location / val / dtype\n",
    "\n",
    "This is generated at compile time"
   ]
  },
  {
   "cell_type": "markdown",
   "id": "f7846f83-5220-43e1-8e0a-692da4da7030",
   "metadata": {},
   "source": [
    "# Constant\n",
    "1. Convention is to write the names in uppercase\n",
    "2. Constants are not really used in python"
   ]
  },
  {
   "cell_type": "markdown",
   "id": "e809fc3d-eb3a-48cb-b0d5-0aba7089b112",
   "metadata": {},
   "source": [
    "# Data Type\n",
    "\n",
    "## Numeric\n",
    "1. Integer\n",
    "2. Float\n",
    "3. Complex\n",
    "\n",
    "## Dictionary\n",
    "Collection of key-value pairs\n",
    "\n",
    "## Boolean\n",
    "1. True\n",
    "2. False\n",
    "\n",
    "## Sequence\n",
    "It is a collection\n",
    "1. List\n",
    "2. Tuple\n",
    "3. String\n",
    "\n",
    "## Set\n",
    "Collection of Unique Values"
   ]
  },
  {
   "cell_type": "markdown",
   "id": "101e6bfd-fed4-4c50-8fb2-1fc5f51c030c",
   "metadata": {},
   "source": [
    "# Literals\n",
    "Raw data. In python DataType are inferred using the literals that are stored in it.\n",
    "\n",
    "## Numeric\n",
    "1. Int\n",
    "2. Float\n",
    "3. Complex\n",
    "\n",
    "## Literal Collections\n",
    "String literals"
   ]
  },
  {
   "cell_type": "markdown",
   "id": "422b55ef-20b4-483b-b2b5-cdfb3e5ede0b",
   "metadata": {},
   "source": [
    "# Type Hinting\n",
    "\n",
    "Inferring the dtype is hard due to py being dynamically typed lang. This is an optional feature in some IDE's"
   ]
  },
  {
   "cell_type": "code",
   "execution_count": 99,
   "id": "b1765c42-69e0-417e-beed-b76b7b0587db",
   "metadata": {},
   "outputs": [],
   "source": [
    "var: str = \"abc\""
   ]
  },
  {
   "cell_type": "markdown",
   "id": "bb962ec5-bfb3-4833-9e49-02575bc8adfe",
   "metadata": {},
   "source": [
    "here str is the hint but the type will always depend upon the value"
   ]
  },
  {
   "cell_type": "code",
   "execution_count": 102,
   "id": "79d028a2-bf14-4efd-b9b1-249169be512f",
   "metadata": {},
   "outputs": [],
   "source": [
    "var: str = 12"
   ]
  },
  {
   "cell_type": "markdown",
   "id": "c6d8f092-dc56-4de4-a798-260d89267e7b",
   "metadata": {},
   "source": [
    "this will be a integer"
   ]
  },
  {
   "cell_type": "markdown",
   "id": "51dcde6e-2d70-4a7b-85cc-d947749ec980",
   "metadata": {},
   "source": [
    "# Type Conversion"
   ]
  },
  {
   "cell_type": "code",
   "execution_count": 108,
   "id": "ff812673-1faf-4dac-a21e-c356afc3bc22",
   "metadata": {},
   "outputs": [
    {
     "name": "stdout",
     "output_type": "stream",
     "text": [
      "1020\n"
     ]
    }
   ],
   "source": [
    "a = \"10\"\n",
    "b = \"20\"\n",
    "print(a+b)"
   ]
  },
  {
   "cell_type": "markdown",
   "id": "54e7a4fc-08df-4653-aebd-e8e78a96dca7",
   "metadata": {},
   "source": [
    "## Implicit Type Coversion\n",
    "\n",
    "Smaller dtype is converted to the bigger dtype"
   ]
  },
  {
   "cell_type": "code",
   "execution_count": 124,
   "id": "8f080f7c-6cb0-4f5d-a638-86404696f19d",
   "metadata": {},
   "outputs": [
    {
     "data": {
      "text/plain": [
       "False"
      ]
     },
     "execution_count": 124,
     "metadata": {},
     "output_type": "execute_result"
    }
   ],
   "source": [
    "10 == 10.2"
   ]
  },
  {
   "cell_type": "markdown",
   "id": "623dc392-cef6-4a91-baca-087a10fa1ce7",
   "metadata": {},
   "source": [
    "Here 10 was converted to 10.0 since float is larger"
   ]
  },
  {
   "cell_type": "markdown",
   "id": "66e9b2f1-734f-4b2d-a184-81b181b5a821",
   "metadata": {},
   "source": [
    "### Explicit Type Conversion"
   ]
  },
  {
   "cell_type": "code",
   "execution_count": 114,
   "id": "5ebbff47-761c-4186-b67e-be570d9449ce",
   "metadata": {},
   "outputs": [
    {
     "name": "stdout",
     "output_type": "stream",
     "text": [
      "30\n"
     ]
    }
   ],
   "source": [
    "print(int(a)+int(b))"
   ]
  },
  {
   "cell_type": "code",
   "execution_count": 132,
   "id": "a674e8ec-341d-4958-8a3f-4c4a082bcbce",
   "metadata": {},
   "outputs": [
    {
     "data": {
      "text/plain": [
       "True"
      ]
     },
     "execution_count": 132,
     "metadata": {},
     "output_type": "execute_result"
    }
   ],
   "source": [
    "10 == int(10.1)"
   ]
  },
  {
   "cell_type": "code",
   "execution_count": 162,
   "id": "36f750a6-f4f7-43cf-a454-25b7a3915929",
   "metadata": {},
   "outputs": [
    {
     "data": {
      "text/plain": [
       "False"
      ]
     },
     "execution_count": 162,
     "metadata": {},
     "output_type": "execute_result"
    }
   ],
   "source": [
    "bool('')"
   ]
  },
  {
   "cell_type": "code",
   "execution_count": 166,
   "id": "948a3822-24c4-4d2b-9855-ecce940e2418",
   "metadata": {},
   "outputs": [
    {
     "data": {
      "text/plain": [
       "'231342'"
      ]
     },
     "execution_count": 166,
     "metadata": {},
     "output_type": "execute_result"
    }
   ],
   "source": [
    "str(231341+1)"
   ]
  },
  {
   "cell_type": "code",
   "execution_count": 170,
   "id": "c232a287-17be-4084-afc2-efb104611ba6",
   "metadata": {},
   "outputs": [
    {
     "data": {
      "text/plain": [
       "'10010'"
      ]
     },
     "execution_count": 170,
     "metadata": {},
     "output_type": "execute_result"
    }
   ],
   "source": [
    "'100' + str(10)"
   ]
  },
  {
   "cell_type": "markdown",
   "id": "0399fe3b-af5d-47d4-9834-84a9ff355026",
   "metadata": {},
   "source": [
    "## Taking input from user"
   ]
  },
  {
   "cell_type": "code",
   "execution_count": 175,
   "id": "e02f0589-73e7-4599-9104-138e417848cd",
   "metadata": {},
   "outputs": [
    {
     "name": "stdout",
     "output_type": "stream",
     "text": [
      "Enter a number 4\n"
     ]
    }
   ],
   "source": [
    "number = input(\"Enter a number\")"
   ]
  },
  {
   "cell_type": "code",
   "execution_count": 184,
   "id": "f65c11b6-01b2-4bdb-927f-46c641e734b6",
   "metadata": {},
   "outputs": [
    {
     "data": {
      "text/plain": [
       "str"
      ]
     },
     "execution_count": 184,
     "metadata": {},
     "output_type": "execute_result"
    }
   ],
   "source": [
    "type(number)"
   ]
  },
  {
   "cell_type": "markdown",
   "id": "cde95d28-5905-4f0c-9dc0-73b63308f7ee",
   "metadata": {},
   "source": [
    "Input will always return a string val so we need to typecast when necessary"
   ]
  },
  {
   "cell_type": "code",
   "execution_count": 188,
   "id": "9fc5245b-b66f-4269-9008-a4791a4f8467",
   "metadata": {},
   "outputs": [
    {
     "name": "stdout",
     "output_type": "stream",
     "text": [
      "Enter a number 4\n"
     ]
    }
   ],
   "source": [
    "number = int(input(\"Enter a number\"))"
   ]
  },
  {
   "cell_type": "code",
   "execution_count": 190,
   "id": "878608b9-0a24-496d-924b-1095ddd1af1e",
   "metadata": {},
   "outputs": [
    {
     "data": {
      "text/plain": [
       "int"
      ]
     },
     "execution_count": 190,
     "metadata": {},
     "output_type": "execute_result"
    }
   ],
   "source": [
    "type(number)"
   ]
  },
  {
   "cell_type": "markdown",
   "id": "c41d3f50-f561-461f-923b-238fa2d60fe8",
   "metadata": {},
   "source": [
    "## Operators\n",
    "1. Arithmetic\n",
    "2. Comparison\n",
    "3. Logical\n",
    "4. Bitwise\n",
    "5. Special - is, is not\n",
    "6. Membership - in, not in"
   ]
  },
  {
   "cell_type": "markdown",
   "id": "368ec34b-24dc-413a-a6e4-9a34a45edcaf",
   "metadata": {},
   "source": [
    "Unary operators are not available in python"
   ]
  },
  {
   "cell_type": "markdown",
   "id": "aaa96395-7d08-4c2e-b94b-8df223237e1a",
   "metadata": {},
   "source": [
    "## Precedence\n",
    "\n",
    "1. ()\n",
    "2. **\n",
    "3. _ *\n",
    "4. %\n",
    "5. /\n",
    "6. //\n",
    "7. _ +\n",
    "8. _ -\n",
    "\n",
    "## Associativity\n",
    "\n",
    "All operators have left to right associativity except the power operator"
   ]
  },
  {
   "cell_type": "code",
   "execution_count": 26,
   "id": "1b6a5872",
   "metadata": {},
   "outputs": [
    {
     "data": {
      "text/plain": [
       "2"
      ]
     },
     "execution_count": 26,
     "metadata": {},
     "output_type": "execute_result"
    }
   ],
   "source": [
    "2**3**0\n",
    "# Here the power operator is right associative, so the expression is evaluated as 2**(3**0) = 2**1 = 2"
   ]
  },
  {
   "cell_type": "markdown",
   "id": "545a54a1-42b7-4e68-8b02-c621e7d1b10b",
   "metadata": {},
   "source": [
    "# Functions\n",
    "\n",
    "Reusable block of statements that performs a specific task."
   ]
  },
  {
   "cell_type": "code",
   "execution_count": 218,
   "id": "89a5d329-7251-43f0-9a12-89358575cb29",
   "metadata": {},
   "outputs": [
    {
     "name": "stdout",
     "output_type": "stream",
     "text": [
      "func called\n"
     ]
    }
   ],
   "source": [
    "def fn():\n",
    "    \"\"\"function definition\n",
    "    also called as docstring\"\"\"\n",
    "    print(\"func called\")\n",
    "    \n",
    "fn() #calling the function"
   ]
  },
  {
   "cell_type": "code",
   "execution_count": 278,
   "id": "0abdb81a-5d7e-4143-88fa-7c947bc22032",
   "metadata": {},
   "outputs": [
    {
     "data": {
      "text/plain": [
       "'function definition\\n    also called as docstring'"
      ]
     },
     "execution_count": 278,
     "metadata": {},
     "output_type": "execute_result"
    }
   ],
   "source": [
    "fn.__doc__"
   ]
  },
  {
   "cell_type": "markdown",
   "id": "f3a2dae2-393a-4a23-861d-a15cc65abba3",
   "metadata": {},
   "source": [
    "Function must be defined when created"
   ]
  },
  {
   "cell_type": "code",
   "execution_count": 271,
   "id": "dbbe6efd-cf56-4bd3-9ede-28f356353b9e",
   "metadata": {},
   "outputs": [
    {
     "name": "stdout",
     "output_type": "stream",
     "text": [
      "4 2\n",
      "1 5\n",
      "3 3\n"
     ]
    }
   ],
   "source": [
    "def fn1(n=1,n2=3):\n",
    "    print(n, n2)\n",
    "\n",
    "fn1(4,2) # indexed parameters\n",
    "fn1(n2=5) # named parameters\n",
    "fn1(3,n2=3) # mixed parameters\n",
    "# fn1(n2=3,4) This will raise an error because named param cannot be used before indexed\n",
    "# fn1(4, n = 3) multiple arguments sent for the same variable is not allowed"
   ]
  },
  {
   "cell_type": "code",
   "execution_count": 275,
   "id": "c6702d0f-97c0-4900-abb9-f1edafb4e95e",
   "metadata": {},
   "outputs": [],
   "source": [
    "#Empty Function\n",
    "def empty_fn():\n",
    "    pass\n",
    "\n",
    "empty_fn()"
   ]
  },
  {
   "cell_type": "markdown",
   "id": "8daddc16-8fe7-4374-82f9-8c74b9e54c32",
   "metadata": {},
   "source": [
    "Named parameters are better when there are a lot of parameters"
   ]
  },
  {
   "cell_type": "markdown",
   "id": "f5f6eaec-d23d-4210-9d99-d5dcea1a564d",
   "metadata": {},
   "source": [
    "## Dunder Attribute\n",
    "\n",
    "Any method or attribute with __ in prefix and postfix e.g. _ _ doc _ _"
   ]
  },
  {
   "cell_type": "code",
   "execution_count": 282,
   "id": "56e8f1f9-4965-458b-b9db-9253a40801a9",
   "metadata": {},
   "outputs": [
    {
     "data": {
      "text/plain": [
       "\"int([x]) -> integer\\nint(x, base=10) -> integer\\n\\nConvert a number or string to an integer, or return 0 if no arguments\\nare given.  If x is a number, return x.__int__().  For floating-point\\nnumbers, this truncates towards zero.\\n\\nIf x is not a number or if base is given, then x must be a string,\\nbytes, or bytearray instance representing an integer literal in the\\ngiven base.  The literal can be preceded by '+' or '-' and be surrounded\\nby whitespace.  The base defaults to 10.  Valid bases are 0 and 2-36.\\nBase 0 means to interpret the base from the string as an integer literal.\\n>>> int('0b100', base=0)\\n4\""
      ]
     },
     "execution_count": 282,
     "metadata": {},
     "output_type": "execute_result"
    }
   ],
   "source": [
    "int.__doc__"
   ]
  },
  {
   "cell_type": "code",
   "execution_count": 284,
   "id": "524fd5a2-a5a6-4f20-b4d8-b77473284942",
   "metadata": {},
   "outputs": [
    {
     "data": {
      "text/plain": [
       "\"type(object) -> the object's type\\ntype(name, bases, dict, **kwds) -> a new type\""
      ]
     },
     "execution_count": 284,
     "metadata": {},
     "output_type": "execute_result"
    }
   ],
   "source": [
    "type.__doc__"
   ]
  }
 ],
 "metadata": {
  "kernelspec": {
   "display_name": "base",
   "language": "python",
   "name": "python3"
  },
  "language_info": {
   "codemirror_mode": {
    "name": "ipython",
    "version": 3
   },
   "file_extension": ".py",
   "mimetype": "text/x-python",
   "name": "python",
   "nbconvert_exporter": "python",
   "pygments_lexer": "ipython3",
   "version": "3.12.7"
  }
 },
 "nbformat": 4,
 "nbformat_minor": 5
}
